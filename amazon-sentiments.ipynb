{
 "cells": [
  {
   "cell_type": "code",
   "execution_count": 1,
   "metadata": {},
   "outputs": [],
   "source": [
    "# first we load the required libraries\n",
    "import numpy as np\n",
    "import pandas as pd\n",
    "import json\n",
    "import matplotlib.pyplot as plt\n",
    "import seaborn as sns\n",
    "from stop_words import get_stop_words\n",
    "from scipy.sparse import coo_matrix\n",
    "\n",
    "# for ggplot style plots\n",
    "plt.style.use(\"ggplot\")"
   ]
  },
  {
   "cell_type": "code",
   "execution_count": 2,
   "metadata": {},
   "outputs": [],
   "source": [
    "# data from: http://deepyeti.ucsd.edu/jianmo/amazon/\n",
    "# Paper:\n",
    "# Justifying recommendations using distantly-labeled reviews and fined-grained aspects\n",
    "# Jianmo Ni, Jiacheng Li, Julian McAuley\n",
    "# Empirical Methods in Natural Language Processing (EMNLP), 2019\n",
    "\n",
    "# to store the stars and reviews\n",
    "stars = []\n",
    "revs = []\n",
    "# Opening JSON file\n",
    "with open('/home/michal/jupyterlab/Appliances.json') as file:\n",
    "    # Iterating through the json list\n",
    "    for json_text in list(file):\n",
    "        # getting a dictionary from json text\n",
    "        ls = eval(json_text.replace(\"false\",\"False\").replace(\"true\",\"True\"))\n",
    "        \n",
    "        # using the dictionary to get the information needed\n",
    "        stars.append(ls[\"overall\"])\n",
    "        try:\n",
    "            revs.append(ls[\"reviewText\"])\n",
    "        except KeyError:\n",
    "            revs.append(\"\")\n",
    "\n",
    "# creating the dataframe\n",
    "resenas_amazon = pd.DataFrame(list(zip(stars,revs)),columns = ['estrellas','comentario'])"
   ]
  },
  {
   "cell_type": "code",
   "execution_count": 3,
   "metadata": {},
   "outputs": [
    {
     "data": {
      "text/plain": [
       "' the duplicates exist for short reviews or people write the same things sometimes (especially for good reviews) '"
      ]
     },
     "execution_count": 3,
     "metadata": {},
     "output_type": "execute_result"
    }
   ],
   "source": [
    "# check for duplicates\n",
    "resenas_amazon[resenas_amazon.duplicated()]\n",
    "''' the duplicates exist for short reviews or people write the same things sometimes (especially for good reviews) '''"
   ]
  },
  {
   "cell_type": "code",
   "execution_count": 4,
   "metadata": {},
   "outputs": [
    {
     "name": "stdout",
     "output_type": "stream",
     "text": [
      "<class 'pandas.core.frame.DataFrame'>\n",
      "RangeIndex: 602777 entries, 0 to 602776\n",
      "Data columns (total 2 columns):\n",
      " #   Column      Non-Null Count   Dtype  \n",
      "---  ------      --------------   -----  \n",
      " 0   estrellas   602777 non-null  float64\n",
      " 1   comentario  602777 non-null  object \n",
      "dtypes: float64(1), object(1)\n",
      "memory usage: 9.2+ MB\n"
     ]
    }
   ],
   "source": [
    "# information about the dataframe\n",
    "resenas_amazon.info()"
   ]
  },
  {
   "cell_type": "code",
   "execution_count": 5,
   "metadata": {},
   "outputs": [],
   "source": [
    "# we change the type to be more economics\n",
    "resenas_amazon['estrellas'] = resenas_amazon['estrellas'].astype(np.ushort)"
   ]
  },
  {
   "cell_type": "code",
   "execution_count": 6,
   "metadata": {},
   "outputs": [
    {
     "data": {
      "text/html": [
       "<div>\n",
       "<style scoped>\n",
       "    .dataframe tbody tr th:only-of-type {\n",
       "        vertical-align: middle;\n",
       "    }\n",
       "\n",
       "    .dataframe tbody tr th {\n",
       "        vertical-align: top;\n",
       "    }\n",
       "\n",
       "    .dataframe thead th {\n",
       "        text-align: right;\n",
       "    }\n",
       "</style>\n",
       "<table border=\"1\" class=\"dataframe\">\n",
       "  <thead>\n",
       "    <tr style=\"text-align: right;\">\n",
       "      <th></th>\n",
       "      <th>comentario</th>\n",
       "    </tr>\n",
       "    <tr>\n",
       "      <th>estrellas</th>\n",
       "      <th></th>\n",
       "    </tr>\n",
       "  </thead>\n",
       "  <tbody>\n",
       "    <tr>\n",
       "      <th>1</th>\n",
       "      <td>59627</td>\n",
       "    </tr>\n",
       "    <tr>\n",
       "      <th>2</th>\n",
       "      <td>20734</td>\n",
       "    </tr>\n",
       "    <tr>\n",
       "      <th>3</th>\n",
       "      <td>30652</td>\n",
       "    </tr>\n",
       "    <tr>\n",
       "      <th>4</th>\n",
       "      <td>75476</td>\n",
       "    </tr>\n",
       "    <tr>\n",
       "      <th>5</th>\n",
       "      <td>416288</td>\n",
       "    </tr>\n",
       "  </tbody>\n",
       "</table>\n",
       "</div>"
      ],
      "text/plain": [
       "           comentario\n",
       "estrellas            \n",
       "1               59627\n",
       "2               20734\n",
       "3               30652\n",
       "4               75476\n",
       "5              416288"
      ]
     },
     "execution_count": 6,
     "metadata": {},
     "output_type": "execute_result"
    }
   ],
   "source": [
    "# how many reviews of what values are there\n",
    "resenas_amazon.groupby(\"estrellas\").count()"
   ]
  },
  {
   "cell_type": "code",
   "execution_count": 7,
   "metadata": {},
   "outputs": [],
   "source": [
    "# we work with a copy\n",
    "resenas_amazon_mod = resenas_amazon.copy()"
   ]
  },
  {
   "cell_type": "code",
   "execution_count": 8,
   "metadata": {},
   "outputs": [],
   "source": [
    "# new column with review values reduced to good (above 3) - value 1 or bad - value 0 (below or equal to 3): \n",
    "resenas_amazon_mod['resena'] = pd.cut(resenas_amazon['estrellas'], bins = [0,3.5,5.5], labels = [0,1])"
   ]
  },
  {
   "cell_type": "code",
   "execution_count": 9,
   "metadata": {},
   "outputs": [],
   "source": [
    "# text clean up and a new column\n",
    "resenas_amazon_mod['palabras'] = [x.lower().replace(',','').replace('.','').replace('(','').replace(')','') for x in resenas_amazon_mod['comentario']]"
   ]
  },
  {
   "cell_type": "code",
   "execution_count": 10,
   "metadata": {},
   "outputs": [],
   "source": [
    "# we remove old reviews\n",
    "del resenas_amazon_mod['comentario']"
   ]
  },
  {
   "cell_type": "code",
   "execution_count": 11,
   "metadata": {},
   "outputs": [
    {
     "data": {
      "text/html": [
       "<div>\n",
       "<style scoped>\n",
       "    .dataframe tbody tr th:only-of-type {\n",
       "        vertical-align: middle;\n",
       "    }\n",
       "\n",
       "    .dataframe tbody tr th {\n",
       "        vertical-align: top;\n",
       "    }\n",
       "\n",
       "    .dataframe thead th {\n",
       "        text-align: right;\n",
       "    }\n",
       "</style>\n",
       "<table border=\"1\" class=\"dataframe\">\n",
       "  <thead>\n",
       "    <tr style=\"text-align: right;\">\n",
       "      <th></th>\n",
       "      <th>estrellas</th>\n",
       "      <th>resena</th>\n",
       "      <th>palabras</th>\n",
       "    </tr>\n",
       "  </thead>\n",
       "  <tbody>\n",
       "    <tr>\n",
       "      <th>0</th>\n",
       "      <td>5</td>\n",
       "      <td>1</td>\n",
       "      <td>not one thing in this book seemed an obvious o...</td>\n",
       "    </tr>\n",
       "    <tr>\n",
       "      <th>1</th>\n",
       "      <td>5</td>\n",
       "      <td>1</td>\n",
       "      <td>i have enjoyed dr alan gregerman's weekly blog...</td>\n",
       "    </tr>\n",
       "    <tr>\n",
       "      <th>2</th>\n",
       "      <td>5</td>\n",
       "      <td>1</td>\n",
       "      <td>alan gregerman believes that innovation comes ...</td>\n",
       "    </tr>\n",
       "    <tr>\n",
       "      <th>3</th>\n",
       "      <td>5</td>\n",
       "      <td>1</td>\n",
       "      <td>alan gregerman is a smart funny entertaining w...</td>\n",
       "    </tr>\n",
       "    <tr>\n",
       "      <th>4</th>\n",
       "      <td>5</td>\n",
       "      <td>1</td>\n",
       "      <td>as i began to read this book i was again remin...</td>\n",
       "    </tr>\n",
       "  </tbody>\n",
       "</table>\n",
       "</div>"
      ],
      "text/plain": [
       "   estrellas resena                                           palabras\n",
       "0          5      1  not one thing in this book seemed an obvious o...\n",
       "1          5      1  i have enjoyed dr alan gregerman's weekly blog...\n",
       "2          5      1  alan gregerman believes that innovation comes ...\n",
       "3          5      1  alan gregerman is a smart funny entertaining w...\n",
       "4          5      1  as i began to read this book i was again remin..."
      ]
     },
     "execution_count": 11,
     "metadata": {},
     "output_type": "execute_result"
    }
   ],
   "source": [
    "# we display the first lines of our dataframe\n",
    "resenas_amazon_mod.head()"
   ]
  },
  {
   "cell_type": "code",
   "execution_count": 12,
   "metadata": {},
   "outputs": [],
   "source": [
    "# let's get the stop words\n",
    "stop_words = get_stop_words('en')"
   ]
  },
  {
   "cell_type": "code",
   "execution_count": 13,
   "metadata": {},
   "outputs": [],
   "source": [
    "# we import nltk\n",
    "import nltk"
   ]
  },
  {
   "cell_type": "code",
   "execution_count": 14,
   "metadata": {},
   "outputs": [],
   "source": [
    "# to get the stemmer\n",
    "from nltk.stem.snowball import SnowballStemmer"
   ]
  },
  {
   "cell_type": "code",
   "execution_count": 15,
   "metadata": {},
   "outputs": [],
   "source": [
    "# we transform the text into text of stems and remove stop words\n",
    "englishStemmer=SnowballStemmer(\"english\")\n",
    "\n",
    "y = []\n",
    "for x in resenas_amazon_mod['palabras']:\n",
    "    x_new = ' '.join([englishStemmer.stem(word) for word in x.split() if word.isalpha() and not word in stop_words])\n",
    "    y.append(x_new)\n",
    "\n",
    "resenas_amazon_mod['palabras'] = y\n",
    "\n",
    "del y"
   ]
  },
  {
   "cell_type": "code",
   "execution_count": 16,
   "metadata": {},
   "outputs": [],
   "source": [
    "# function that produces a dictionary of words and their count\n",
    "def dict_bow(text):\n",
    "    lista = text.split()\n",
    "    return {x: lista.count(x) for x in lista}"
   ]
  },
  {
   "cell_type": "code",
   "execution_count": 18,
   "metadata": {},
   "outputs": [],
   "source": [
    "# function that produces a dictionary of bigrams and their count\n",
    "def dict_bow_bi(text):\n",
    "    bigrams_a = nltk.bigrams(text.split())\n",
    "    lista = list(bigrams_a)\n",
    "    return {x: lista.count(x) for x in lista}"
   ]
  },
  {
   "cell_type": "code",
   "execution_count": 19,
   "metadata": {},
   "outputs": [],
   "source": [
    "# function that produces a dictionary of trigrams and their count\n",
    "def dict_bow_tri(text):\n",
    "    trigrams_a = nltk.trigrams(text.split())\n",
    "    lista = list(trigrams_a)\n",
    "    return {x: lista.count(x) for x in lista}"
   ]
  },
  {
   "cell_type": "code",
   "execution_count": 20,
   "metadata": {},
   "outputs": [],
   "source": [
    "# this function generates a sparse-matrix for words, bigrams and trigrams\n",
    "# text_list is a list of texts\n",
    "# n controls what degree of n-grams is included\n",
    "# num_mas_fr, num_mas_fr_bi, num_mas_fr_tri are parameters of cuts on number of n-grams incluided\n",
    "def text_list_into_S(text_list, n = 1, num_mas_fr = 3000, num_mas_fr_bi = None, num_mas_fr_tri = None) :\n",
    "# initialisation of arguments\n",
    "    if num_mas_fr_bi is None: num_mas_fr_bi = num_mas_fr\n",
    "    if num_mas_fr_tri is None: num_mas_fr_tri = num_mas_fr\n",
    "        \n",
    "# first we construct dictionaries that contain all the words/n-grams and their frequencies\n",
    "    big_dict = {}\n",
    "    big_dict_bi = {}\n",
    "    big_dict_tri = {}\n",
    "    for x in text_list:\n",
    "        \n",
    "        words_raw = x.split()\n",
    "\n",
    "        if n >= 2:\n",
    "            bigrams_raw = list(nltk.bigrams(x.split()))\n",
    "            \n",
    "            for bi_el in bigrams_raw:\n",
    "                try:\n",
    "                    big_dict_bi[bi_el] += 1\n",
    "                except KeyError:\n",
    "                    big_dict_bi[bi_el] = 1\n",
    "            \n",
    "            if n == 3:\n",
    "                trigrams_raw = list(nltk.trigrams(x.split()))\n",
    "                \n",
    "                for tri_el in trigrams_raw:\n",
    "                    try:\n",
    "                        big_dict_tri[tri_el] += 1\n",
    "                    except KeyError:\n",
    "                        big_dict_tri[tri_el] = 1\n",
    "          \n",
    "        for el in words_raw:\n",
    "            try:\n",
    "                big_dict[el] += 1\n",
    "            except KeyError:\n",
    "                big_dict[el] = 1\n",
    "    \n",
    "    del words_raw\n",
    "    if n >= 2: del bigrams_raw\n",
    "    if n == 3: del trigrams_raw\n",
    "    \n",
    "    print('Number of unique words:',len(set(big_dict.keys())))\n",
    "    print('Included text (%):',100*sum(sorted(big_dict.values(), reverse = True)[:num_mas_fr])/sum(sorted(big_dict.values(), reverse = True)),'%')\n",
    "\n",
    "# here we order the words according to their frequency and keep only the first num_mas_fr most frequent words\n",
    "    un_word_list_red = sorted(big_dict, key = big_dict.get, reverse = True)[:num_mas_fr]\n",
    "    del big_dict\n",
    "\n",
    "# in case of n == 2 o n == 3, we filter bigrams or/and trigrams that contain only most frequent words\n",
    "    if n >= 2:\n",
    "# in addition, we apply cuts on number of bigrams and trigrams\n",
    "        bigrams_all = sorted(big_dict_bi, key = big_dict_bi.get, reverse = True)[:num_mas_fr_bi]\n",
    "        bigrams = [bi for bi in bigrams_all if bi[0] in un_word_list_red and bi[1] in un_word_list_red]\n",
    "        del big_dict_bi\n",
    "\n",
    "        if n == 3:\n",
    "            trigrams_all = sorted(big_dict_tri, key = big_dict_tri.get, reverse = True)[:num_mas_fr_tri]\n",
    "            trigrams = [tri for tri in trigrams_all if tri[0] in un_word_list_red and tri[1] in un_word_list_red and\n",
    "                       tri[2] in un_word_list_red]\n",
    "            del big_dict_tri\n",
    "    \n",
    "# dictionaries with information about columns\n",
    "    dict_big = {k: v for v, k in enumerate(un_word_list_red)}\n",
    "    if n >= 2:\n",
    "        dict_big_bi = {k: v for v, k in enumerate(bigrams)}\n",
    "        if n == 3:\n",
    "            dict_big_tri = {k: v for v, k in enumerate(trigrams)}\n",
    "\n",
    "# row_shift1 and row_shift2 to calculate indices of bigrams and/or trigrams\n",
    "    row_shift1 = len(un_word_list_red)\n",
    "    if n == 3: row_shift2 = len(bigrams) + row_shift1\n",
    "\n",
    "# n_coo and n_col positional variables for rows\n",
    "    n_coo = 0 # number of the row\n",
    "    n_col = 0 # number of the row tracker\n",
    "# values (data), indices and rows of the sparse matrix\n",
    "    data = []\n",
    "    ind = []\n",
    "    row = []\n",
    "# list row_zero stores the eliminated rows\n",
    "    row_zero = []\n",
    "\n",
    "# loop over the texts\n",
    "    for com in text_list:\n",
    "\n",
    "# here we get dictionaries with conts of words/n-grams in text com\n",
    "        dicc = dict_bow(com)\n",
    "        if n >= 2: \n",
    "            dicc_bi = dict_bow_bi(com)\n",
    "\n",
    "        if n == 3: \n",
    "            dicc_tri = dict_bow_tri(com)\n",
    "            \n",
    "# auxiliary values (data), indices and rows for words, bigrams and trigrams\n",
    "        ind_a = []\n",
    "        row_a = []\n",
    "        data_a = []\n",
    "\n",
    "        ind_b = []\n",
    "        row_b = []\n",
    "        data_b = []\n",
    "        \n",
    "        ind_t = []\n",
    "        row_t = []\n",
    "        data_t = []\n",
    "\n",
    "# loop over unique words in text and extraction of the index, value and row\n",
    "        for word in dicc.keys():\n",
    "            try:\n",
    "                ind_a.append(dict_big[word])\n",
    "\n",
    "                data_a.append(dicc[word])\n",
    "\n",
    "                row_a.append(n_coo)\n",
    "            except KeyError:\n",
    "                pass\n",
    "\n",
    "# oop over unique bi/tri-grams in text and extraction of the index, value and row\n",
    "        if n >= 2:\n",
    "            for bigr in dicc_bi.keys():\n",
    "                try:\n",
    "                    ind_b.append(dict_big_bi[bigr] + row_shift1)\n",
    "\n",
    "                    data_b.append(dicc_bi[bigr])\n",
    "\n",
    "                    row_b.append(n_coo)\n",
    "                except KeyError:\n",
    "                    pass\n",
    "            if n == 3:\n",
    "                for trigr in dicc_tri.keys():\n",
    "                    try:\n",
    "                        ind_t.append(dict_big_tri[word] + row_shift2)\n",
    "        \n",
    "                        data_t.append(dicc_tri[word])\n",
    "            \n",
    "                        row_t.append(n_coo)\n",
    "                    except KeyError:\n",
    "                        pass\n",
    "\n",
    "# if there are some wotds in the text, we construct final data, index and rows; and increase the nunmber of the row\n",
    "        if sum(data_a) != 0:\n",
    "            n_coo += 1\n",
    "            data += data_a + data_b + data_t\n",
    "            ind += ind_a + ind_b + ind_t\n",
    "            row += row_a + row_b + row_t\n",
    "        else:\n",
    "# if there are no words in the text, we keep the number of the column in row_zero\n",
    "            row_zero.append(n_col)\n",
    "# we increase the value of the row tracker\n",
    "        n_col += 1\n",
    "\n",
    "# how many rows did we remove\n",
    "    print('Numero de filas perdidas:',len(row_zero))\n",
    "\n",
    "# dimensions of the matrix\n",
    "    m_rows = text_list.shape[0]-len(row_zero)\n",
    "    m_cols = row_shift1\n",
    "    if n == 2: m_cols = row_shift1 + len(bigrams)\n",
    "    if n == 3: m_cols = row_shift2 + len(trigrams)\n",
    "\n",
    "    print('Numero de filas:',m_rows,'Numero de columnas:',m_cols)\n",
    "\n",
    "# constrction of the sparse matrix\n",
    "    S_m = coo_matrix((data, (row, ind)), shape = (m_rows, m_cols), dtype=np.ushort)\n",
    "\n",
    "# results: sparse matrix and the removed rows\n",
    "    return (S_m,row_zero)"
   ]
  },
  {
   "cell_type": "code",
   "execution_count": 21,
   "metadata": {},
   "outputs": [
    {
     "name": "stdout",
     "output_type": "stream",
     "text": [
      "Number of unique words: 59451\n",
      "Included text (%): 96.50442945264052 %\n",
      "Numero de filas perdidas: 6453\n",
      "Numero de filas: 596324 Numero de columnas: 42877\n"
     ]
    }
   ],
   "source": [
    "# we execte the function text_list_into_S to obtain the sparse matrix and list of lost rows\n",
    "# to test the model it is possible to calculate S with different values of cuts num_mas_fr, num_mas_fr_bi \n",
    "# and num_mas_fr_tri\n",
    "S, row_0 = text_list_into_S(np.array(resenas_amazon_mod['palabras']), \n",
    "                            n = 3, num_mas_fr = 3000, num_mas_fr_bi = 10000, num_mas_fr_tri = 30000)"
   ]
  },
  {
   "cell_type": "code",
   "execution_count": 23,
   "metadata": {},
   "outputs": [],
   "source": [
    "# we'll try to train some models\n",
    "# here we load them\n",
    "from sklearn.linear_model import LogisticRegression as LR\n",
    "from sklearn.tree import DecisionTreeClassifier as DTC"
   ]
  },
  {
   "cell_type": "code",
   "execution_count": 24,
   "metadata": {},
   "outputs": [],
   "source": [
    "from sklearn.model_selection import train_test_split"
   ]
  },
  {
   "cell_type": "code",
   "execution_count": 25,
   "metadata": {},
   "outputs": [],
   "source": [
    "# our target column, that contains the classifications\n",
    "target = np.array(resenas_amazon_mod['resena'].drop(row_0,axis = 0), dtype = np.ushort)"
   ]
  },
  {
   "cell_type": "code",
   "execution_count": 26,
   "metadata": {},
   "outputs": [],
   "source": [
    "# we split S into X_train and X_test and the target into y_train y y_test\n",
    "X_train, X_test, y_train, y_test = train_test_split(S,target,test_size=0.2,random_state = 7235)"
   ]
  },
  {
   "cell_type": "code",
   "execution_count": 27,
   "metadata": {},
   "outputs": [],
   "source": [
    "# to rescale the matrices X\n",
    "from sklearn import preprocessing\n",
    "\n",
    "# the option with_mean = True is not available with sparse matrix\n",
    "scaler = preprocessing.StandardScaler(with_mean = False).fit(X_train)"
   ]
  },
  {
   "cell_type": "code",
   "execution_count": 28,
   "metadata": {},
   "outputs": [],
   "source": [
    "# we rescale matrices X\n",
    "X_train_sc = scaler.transform(X_train)\n",
    "X_test_sc = scaler.transform(X_test)"
   ]
  },
  {
   "cell_type": "code",
   "execution_count": 29,
   "metadata": {},
   "outputs": [],
   "source": [
    "# logistic regresion with parameters\n",
    "mi_lr=LR(random_state=21534, max_iter = 10000, C = 1, tol=0.00001, verbose = 2)"
   ]
  },
  {
   "cell_type": "code",
   "execution_count": 30,
   "metadata": {},
   "outputs": [],
   "source": [
    "# decission tree model\n",
    "tree=DTC(max_depth = 100, random_state=21534)"
   ]
  },
  {
   "cell_type": "code",
   "execution_count": 31,
   "metadata": {},
   "outputs": [],
   "source": [
    "# function to retrieve the scores\n",
    "def saca_scores(modelo):\n",
    "    print(modelo.score(X_train_sc,y_train))\n",
    "    print(modelo.score(X_test_sc,y_test))"
   ]
  },
  {
   "cell_type": "code",
   "execution_count": 32,
   "metadata": {},
   "outputs": [
    {
     "data": {
      "text/plain": [
       "DecisionTreeClassifier(max_depth=100, random_state=21534)"
      ]
     },
     "execution_count": 32,
     "metadata": {},
     "output_type": "execute_result"
    }
   ],
   "source": [
    "# er train the tree\n",
    "tree.fit(X_train_sc, y_train)"
   ]
  },
  {
   "cell_type": "code",
   "execution_count": 33,
   "metadata": {},
   "outputs": [
    {
     "name": "stdout",
     "output_type": "stream",
     "text": [
      "0.9636900257620127\n",
      "0.8691653041546137\n"
     ]
    }
   ],
   "source": [
    "# we evaluate the tree\n",
    "saca_scores(tree)"
   ]
  },
  {
   "cell_type": "code",
   "execution_count": 34,
   "metadata": {},
   "outputs": [
    {
     "name": "stderr",
     "output_type": "stream",
     "text": [
      "[Parallel(n_jobs=1)]: Using backend SequentialBackend with 1 concurrent workers.\n",
      "[Parallel(n_jobs=1)]: Done   1 out of   1 | elapsed:  1.6min remaining:    0.0s\n",
      "[Parallel(n_jobs=1)]: Done   1 out of   1 | elapsed:  1.6min finished\n"
     ]
    },
    {
     "data": {
      "text/plain": [
       "LogisticRegression(C=1, max_iter=10000, random_state=21534, tol=1e-05,\n",
       "                   verbose=2)"
      ]
     },
     "execution_count": 34,
     "metadata": {},
     "output_type": "execute_result"
    }
   ],
   "source": [
    "# we train the regresion\n",
    "mi_lr.fit(X_train_sc, y_train)"
   ]
  },
  {
   "cell_type": "code",
   "execution_count": 35,
   "metadata": {},
   "outputs": [
    {
     "name": "stdout",
     "output_type": "stream",
     "text": [
      "0.9201293760310569\n",
      "0.9079277239760198\n"
     ]
    }
   ],
   "source": [
    "# we evaluate regresion\n",
    "saca_scores(mi_lr)"
   ]
  },
  {
   "cell_type": "markdown",
   "metadata": {},
   "source": [
    "La regresion logistica funciona mejor. Es el estimador que funciona mejor de los que he probado."
   ]
  },
  {
   "cell_type": "code",
   "execution_count": 36,
   "metadata": {
    "tags": []
   },
   "outputs": [],
   "source": [
    "# to draw the confusion matrix\n",
    "from sklearn.metrics import confusion_matrix\n",
    "\n",
    "def conf_mat_plot(y_t, y_p):\n",
    "    conf_mat = confusion_matrix(y_t, y_p)\n",
    "    \n",
    "    plt.rcParams[\"figure.figsize\"] = (7,5)\n",
    "    \n",
    "    heat = sns.heatmap(conf_mat, annot=True, annot_kws={\"size\": 16},cmap = \"Blues\")\n",
    "    heat.set_xlabel('Predicted',fontsize=20)\n",
    "    heat.set_ylabel(\"Actual\",fontsize=20)\n",
    "    heat.tick_params(labelsize=20)\n",
    "    heat.xaxis.tick_top()"
   ]
  },
  {
   "cell_type": "code",
   "execution_count": 37,
   "metadata": {},
   "outputs": [],
   "source": [
    "y_pred = mi_lr.predict(X_test_sc)"
   ]
  },
  {
   "cell_type": "code",
   "execution_count": 38,
   "metadata": {},
   "outputs": [
    {
     "data": {
      "image/png": "[encoded data removed]",
      "text/plain": [
       "<Figure size 504x360 with 2 Axes>"
      ]
     },
     "metadata": {},
     "output_type": "display_data"
    }
   ],
   "source": [
    "# confusion matrix for mi_lr\n",
    "conf_mat_plot(y_test, y_pred)"
   ]
  },
  {
   "cell_type": "markdown",
   "metadata": {},
   "source": [
    "Modelo parece decente, pero hay espacio para mejorarlo."
   ]
  },
  {
   "cell_type": "code",
   "execution_count": 39,
   "metadata": {},
   "outputs": [
    {
     "name": "stdout",
     "output_type": "stream",
     "text": [
      "              precision    recall  f1-score   support\n",
      "\n",
      "           0       0.81      0.65      0.72     21979\n",
      "           1       0.92      0.97      0.94     97286\n",
      "\n",
      "    accuracy                           0.91    119265\n",
      "   macro avg       0.87      0.81      0.83    119265\n",
      "weighted avg       0.90      0.91      0.90    119265\n",
      "\n"
     ]
    }
   ],
   "source": [
    "from sklearn.metrics import classification_report\n",
    "\n",
    "# classification report\n",
    "print(classification_report(y_test, y_pred))"
   ]
  }
 ],
 "metadata": {
  "kernelspec": {
   "display_name": "Python 3",
   "language": "python",
   "name": "python3"
  },
  "language_info": {
   "codemirror_mode": {
    "name": "ipython",
    "version": 3
   },
   "file_extension": ".py",
   "mimetype": "text/x-python",
   "name": "python",
   "nbconvert_exporter": "python",
   "pygments_lexer": "ipython3",
   "version": "3.8.8"
  }
 },
 "nbformat": 4,
 "nbformat_minor": 4
}
